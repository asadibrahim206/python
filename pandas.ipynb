{
 "cells": [
  {
   "cell_type": "code",
   "execution_count": 7,
   "id": "2c86ffed",
   "metadata": {},
   "outputs": [
    {
     "name": "stdout",
     "output_type": "stream",
     "text": [
      "{'Roll No': [1245, 123343, 232123, 5454453, 342424], 'Name': ['asad', 'ibrahim', 'taha', 'owais', 'afaq'], 'cgpa': [3.1, 2.3, 3.0, 1.5, 2.5]}\n"
     ]
    }
   ],
   "source": [
    "import pandas as pd\n",
    "student = {\n",
    "    \"Roll No\":[1245,123343,232123,5454453,342424],\n",
    "    \"Name\": [\"asad\", \"ibrahim\",\"taha\",\"owais\",\"afaq\"],\n",
    "    \"cgpa\" : [3.1,2.3,3.0,1.5,2.5]\n",
    "\n",
    "}\n",
    "print(student)"
   ]
  },
  {
   "cell_type": "markdown",
   "id": "7ce8bf77",
   "metadata": {},
   "source": [
    "#MY FIRST PANDAS WORK\n"
   ]
  },
  {
   "cell_type": "code",
   "execution_count": 37,
   "id": "e3c42900",
   "metadata": {},
   "outputs": [],
   "source": [
    "s = pd.Series([\"asad\",\"owaois\",\"taha\",\"abdullah\"])\n",
    "s\n",
    "index = [\"player1\",\"player2\",\"player3\",\"player4\"]\n"
   ]
  },
  {
   "cell_type": "code",
   "execution_count": 46,
   "id": "d16f2146",
   "metadata": {},
   "outputs": [
    {
     "data": {
      "text/plain": [
       "player1      asad\n",
       "player2    owaois\n",
       "dtype: object"
      ]
     },
     "execution_count": 46,
     "metadata": {},
     "output_type": "execute_result"
    }
   ],
   "source": [
    "s.index = index\n",
    "s.loc[\"player1\":\"player2\"]\n"
   ]
  },
  {
   "cell_type": "markdown",
   "id": "4eb3d853",
   "metadata": {},
   "source": []
  },
  {
   "cell_type": "code",
   "execution_count": null,
   "id": "4088115e",
   "metadata": {},
   "outputs": [
    {
     "data": {
      "text/plain": [
       "avocado        2.0\n",
       "guava          2.6\n",
       "BlackBery      2.0\n",
       "banana         1.1\n",
       "Apples         0.3\n",
       "kiwi           1.1\n",
       "pomegranate    1.7\n",
       "mango          0.8\n",
       "dtype: float64"
      ]
     },
     "execution_count": 48,
     "metadata": {},
     "output_type": "execute_result"
    }
   ],
   "source": [
    "fruit_protein = {\n",
    "    \"avocado\":2.0,\n",
    "    \"guava\":2.6,\n",
    "    \"BlackBery\" :2.0,\n",
    "    \"banana\" : 1.1,\n",
    "    \"Apples\" : 0.3,\n",
    "    \"kiwi\" : 1.1,\n",
    "    \"pomegranate\": 1.7,\n",
    "    \"mango\" : 0.8\n",
    "}\n",
    "s2 = pd.Series(fruit_protein, namev=\"protein\")\n",
    "s2"
   ]
  }
 ],
 "metadata": {
  "kernelspec": {
   "display_name": ".venv (3.13.6)",
   "language": "python",
   "name": "python3"
  },
  "language_info": {
   "codemirror_mode": {
    "name": "ipython",
    "version": 3
   },
   "file_extension": ".py",
   "mimetype": "text/x-python",
   "name": "python",
   "nbconvert_exporter": "python",
   "pygments_lexer": "ipython3",
   "version": "3.13.6"
  }
 },
 "nbformat": 4,
 "nbformat_minor": 5
}
